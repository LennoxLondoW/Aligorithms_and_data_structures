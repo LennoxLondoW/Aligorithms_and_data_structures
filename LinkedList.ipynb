{
 "cells": [
  {
   "cell_type": "code",
   "execution_count": 1,
   "metadata": {},
   "outputs": [],
   "source": [
    "# class to ctrate nodes \n",
    "class node:\n",
    "    def __init__(self, data=None):\n",
    "        self.data = data\n",
    "        self.next = None"
   ]
  },
  {
   "cell_type": "code",
   "execution_count": 27,
   "metadata": {},
   "outputs": [],
   "source": [
    "# class to create new list \n",
    "class linked_list:\n",
    "    def __init__(self):\n",
    "        self.head = node()\n",
    "    \n",
    "#  appending to the list \n",
    "    def append(self, data):\n",
    "        new_node = node(data)\n",
    "        cur = self.head\n",
    "        while cur.next != None:\n",
    "            cur = cur.next\n",
    "        cur.next = new_node\n",
    "        \n",
    "#     lenght of a linked list\n",
    "    def length(self):\n",
    "        total = 0\n",
    "        cur = self.head\n",
    "        while cur.next != None:\n",
    "            total += 1\n",
    "            cur = cur.next\n",
    "        print(total)\n",
    "        return total\n",
    "        \n",
    "#     lenght of a linked list\n",
    "    def display(self):\n",
    "        items = []\n",
    "        cur = self.head\n",
    "        while cur.next != None:\n",
    "            cur = cur.next\n",
    "            items.append(cur.data)\n",
    "        print(items)\n",
    "    def get(self, index):\n",
    "        if index >= self.length():\n",
    "            print(\"Index out of range\")\n",
    "            return None\n",
    "        cur = self.head\n",
    "        loop = 0\n",
    "        while cur.next != None:\n",
    "            cur = cur.next\n",
    "            if loop == index:\n",
    "                print(cur.data)\n",
    "                break\n",
    "            \n",
    "            loop += 1\n",
    "            \n",
    "    def erase(self, index):\n",
    "        if index >= self.length():\n",
    "            print(\"Index out of range\")\n",
    "            return None\n",
    "        cur = self.head\n",
    "        loop = 0\n",
    "        while cur.next != None:\n",
    "            prev_node = cur\n",
    "            cur = cur.next\n",
    "            if loop == index:\n",
    "                prev_node.next = cur.next \n",
    "                break\n",
    "            loop += 1 \n",
    "                \n",
    "        \n"
   ]
  },
  {
   "cell_type": "code",
   "execution_count": 28,
   "metadata": {},
   "outputs": [
    {
     "name": "stdout",
     "output_type": "stream",
     "text": [
      "[]\n",
      "['Lennox', 'Londo', 'Wafula']\n",
      "3\n",
      "Index out of range\n",
      "3\n",
      "['Lennox', 'Wafula']\n"
     ]
    }
   ],
   "source": [
    "my_list = linked_list()\n",
    "my_list.display()\n",
    "my_list.append(\"Lennox\")\n",
    "my_list.append(\"Londo\")\n",
    "my_list.append(\"Wafula\")\n",
    "my_list.display()\n",
    "my_list.get(6)\n",
    "my_list.erase(1)\n",
    "my_list.display()"
   ]
  },
  {
   "cell_type": "code",
   "execution_count": null,
   "metadata": {},
   "outputs": [],
   "source": []
  }
 ],
 "metadata": {
  "kernelspec": {
   "display_name": "Python 3",
   "language": "python",
   "name": "python3"
  },
  "language_info": {
   "codemirror_mode": {
    "name": "ipython",
    "version": 3
   },
   "file_extension": ".py",
   "mimetype": "text/x-python",
   "name": "python",
   "nbconvert_exporter": "python",
   "pygments_lexer": "ipython3",
   "version": "3.7.3"
  }
 },
 "nbformat": 4,
 "nbformat_minor": 2
}
