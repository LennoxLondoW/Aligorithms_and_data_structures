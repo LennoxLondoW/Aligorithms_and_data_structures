{
 "cells": [
  {
   "cell_type": "raw",
   "metadata": {},
   "source": [
    "You are given the heads of two sorted linked lists list1 and list2.\n",
    "\n",
    "Merge the two lists in a one sorted list. The list should be made by splicing together the nodes of the first two lists.\n",
    "\n",
    "Return the head of the merged linked list.\n",
    "\n",
    " \n",
    "\n",
    "Example 1:\n",
    "\n",
    "\n",
    "Input: list1 = [1,2,4], list2 = [1,3,4]\n",
    "Output: [1,1,2,3,4,4]\n",
    "Example 2:\n",
    "\n",
    "Input: list1 = [], list2 = []\n",
    "Output: []\n",
    "Example 3:\n",
    "\n",
    "Input: list1 = [], list2 = [0]\n",
    "Output: [0]\n",
    " \n",
    "\n",
    "Constraints:\n",
    "\n",
    "The number of nodes in both lists is in the range [0, 50].\n",
    "-100 <= Node.val <= 100\n",
    "Both list1 and list2 are sorted in non-decreasing order."
   ]
  },
  {
   "cell_type": "code",
   "execution_count": 7,
   "metadata": {},
   "outputs": [],
   "source": [
    "# Definition for singly-linked list.\n",
    "class ListNode:\n",
    "    def __init__(self, val=0, next=None):\n",
    "        self.val = val\n",
    "        self.next = next\n",
    "class Solution:\n",
    "    def mergeTwoLists(self, list1, list2):\n",
    "        array = []\n",
    "\n",
    "        while list1 != None:\n",
    "            array.append(list1.val)\n",
    "            list1 = list1.next\n",
    "        while list2 != None:\n",
    "            array.append(list2.val)\n",
    "            list2 = list2.next\n",
    "        array.sort()\n",
    "        length = len(array)\n",
    "        if length == 0:\n",
    "            return list1;\n",
    "        \n",
    "        list1 = cur = ListNode(array[0])\n",
    "        cur = list1\n",
    "        for i in range(1, length):\n",
    "            cur.next = ListNode(array[i])\n",
    "            cur = cur.next\n",
    "        print(array)\n",
    "        return(list1)"
   ]
  },
  {
   "cell_type": "code",
   "execution_count": 9,
   "metadata": {},
   "outputs": [
    {
     "name": "stdout",
     "output_type": "stream",
     "text": [
      "[1, 2, 3, 3, 4, 4, 5, 5, 6, 6, 7, 8]\n",
      "<__main__.ListNode object at 0x0000019087CA8940>\n"
     ]
    }
   ],
   "source": [
    "list1 = ListNode(1)\n",
    "cur = list1\n",
    "for i in range(2, 9):\n",
    "    cur.next = ListNode(i)\n",
    "    cur = cur.next\n",
    "    \n",
    "list2 = ListNode(3)\n",
    "cur = list2\n",
    "for i in range(4, 7):\n",
    "    cur.next = ListNode(i)\n",
    "    cur = cur.next\n",
    "\n",
    "solution = Solution()\n",
    "print(solution.mergeTwoLists(list1, list2))"
   ]
  }
 ],
 "metadata": {
  "kernelspec": {
   "display_name": "Python 3",
   "language": "python",
   "name": "python3"
  },
  "language_info": {
   "codemirror_mode": {
    "name": "ipython",
    "version": 3
   },
   "file_extension": ".py",
   "mimetype": "text/x-python",
   "name": "python",
   "nbconvert_exporter": "python",
   "pygments_lexer": "ipython3",
   "version": "3.7.3"
  }
 },
 "nbformat": 4,
 "nbformat_minor": 2
}
