{
 "cells": [
  {
   "cell_type": "markdown",
   "metadata": {},
   "source": [
    "\n",
    "You have to rotate the image in-place, which means you have to modify the input 2D matrix directly. \n",
    "DO NOT allocate another 2D matrix and do the rotation.\n",
    "\n",
    " \n",
    "\n",
    "Example 1:\n",
    "\n",
    "\n",
    "Input: matrix = [[1,2,3],[4,5,6],[7,8,9]]\n",
    "Output: [[7,4,1],[8,5,2],[9,6,3]]\n",
    "Example 2:\n",
    "\n",
    "\n",
    "Input: matrix = [[5,1,9,11],[2,4,8,10],[13,3,6,7],[15,14,12,16]]\n",
    "Output: [[15,13,2,5],[14,3,4,1],[12,6,8,9],[16,7,10,11]]\n",
    " \n",
    "\n",
    "Constraints:\n",
    "\n",
    "n == matrix.length == matrix[i].length\n",
    "1 <= n <= 20\n",
    "-1000 <= matrix[i][j] <= 1000"
   ]
  },
  {
   "cell_type": "code",
   "execution_count": 3,
   "metadata": {},
   "outputs": [],
   "source": [
    "class Solution:\n",
    "    def rotate(self, matrix = [[]]):\n",
    "        \"\"\"\n",
    "        Do not return anything, modify matrix in-place instead.\n",
    "        \"\"\"\n",
    "        length = len(matrix) - 1\n",
    "        if length > 0:\n",
    "            mid_point = (length+ 2)//2 if length % 2 == 0 else (length +1)//2\n",
    "            for i in range(0, mid_point):\n",
    "                for j in range(i, length - i):\n",
    "                    i_1 = i\n",
    "                    j_1 = j\n",
    "                    \n",
    "                    i_2 = j\n",
    "                    j_2 = length - i\n",
    "                    \n",
    "                    i_3 = j_2\n",
    "                    j_3 = length - i_2\n",
    "                    \n",
    "                    i_4 = length - j_1\n",
    "                    j_4 = i_1\n",
    "                    matrix[i_1][j_1], matrix[i_2][j_2], matrix[i_3][j_3], matrix[i_4][j_4] = matrix[i_4][j_4], matrix[i_1][j_1],  matrix[i_2][j_2], matrix[i_3][j_3]\n",
    "        \n",
    "        print(matrix)\n",
    "        "
   ]
  },
  {
   "cell_type": "code",
   "execution_count": 4,
   "metadata": {},
   "outputs": [
    {
     "name": "stdout",
     "output_type": "stream",
     "text": [
      "[[7, 4, 1], [8, 5, 2], [9, 6, 3]]\n",
      "[[15, 13, 2, 5], [14, 3, 4, 1], [12, 6, 8, 9], [16, 7, 10, 11]]\n"
     ]
    }
   ],
   "source": [
    "solution = Solution()\n",
    "\n",
    "solution.rotate([[1,2,3],[4,5,6],[7,8,9]])\n",
    "solution.rotate([[5,1,9,11],[2,4,8,10],[13,3,6,7],[15,14,12,16]])\n",
    "\n",
    "# answers \n",
    "# Output: [[7,4,1],[8,5,2],[9,6,3]]\n",
    "#Output: [[15,13,2,5],[14,3,4,1],[12,6,8,9],[16,7,10,11]]"
   ]
  }
 ],
 "metadata": {
  "kernelspec": {
   "display_name": "Python 3",
   "language": "python",
   "name": "python3"
  },
  "language_info": {
   "codemirror_mode": {
    "name": "ipython",
    "version": 3
   },
   "file_extension": ".py",
   "mimetype": "text/x-python",
   "name": "python",
   "nbconvert_exporter": "python",
   "pygments_lexer": "ipython3",
   "version": "3.7.3"
  }
 },
 "nbformat": 4,
 "nbformat_minor": 2
}
